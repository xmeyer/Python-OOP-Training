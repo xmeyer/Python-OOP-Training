{
  "nbformat": 4,
  "nbformat_minor": 0,
  "metadata": {
    "colab": {
      "name": "Python-OOP-Corey_Schafer",
      "provenance": [],
      "collapsed_sections": []
    },
    "kernelspec": {
      "name": "python3",
      "display_name": "Python 3"
    },
    "language_info": {
      "name": "python"
    }
  },
  "cells": [
    {
      "cell_type": "markdown",
      "metadata": {
        "id": "kyS26uEuKtjD"
      },
      "source": [
        "# **Python-OOP-Tutorial 1:** Classes and Instances"
      ]
    },
    {
      "cell_type": "code",
      "metadata": {
        "colab": {
          "base_uri": "https://localhost:8080/"
        },
        "id": "R65Y0BJ7Udbe",
        "outputId": "2e920a2e-1fa4-4c24-f642-20ebe2c19f7d"
      },
      "source": [
        "'''\n",
        "class Employee: # classes are a blueprint for creating instances\n",
        "  pass\n",
        "\n",
        "emp_1 = Employee() # an instance of the class\n",
        "emp_2 = Employee()\n",
        "\n",
        "print(emp_1) # both employees are class (employee) objects\n",
        "print(emp_2)\n",
        "\n",
        "emp_1.first = \"Xavier\" # Instance variables\n",
        "emp_1.last = \"Meyer\"\n",
        "emp_1.email = \"Xavier.Meyer@company.com\"\n",
        "emp_1.pay = 50000\n",
        "\n",
        "emp_2.first = \"Test\"\n",
        "emp_2.last = \"User\"\n",
        "emp_2.email = \"Test.User@company.com\"\n",
        "emp_2.pay = 60000\n",
        "\n",
        "print(emp_1.email) # This was done manually, and it doesn't allow for the best use of OOP\n",
        "print(emp_2.email)\n",
        "'''\n",
        "\n",
        "class Employee:\n",
        "  def __init__(self, first, last, pay): # special method to initialize instances\n",
        "    '''\n",
        "    This function automatically creates employee ojects.\n",
        "    '''\n",
        "    self.first = first # an attribute to the class\n",
        "    self.last = last\n",
        "    self.pay = pay\n",
        "    self.email = first + '.' + last + '@company.com'\n",
        "\n",
        "  def fullname(self): # method\n",
        "    return '{} {}'.format(self.first, self.last)\n",
        "\n",
        "emp_1 = Employee('Xavier', 'Meyer', 50000) # instance passed automatically\n",
        "emp_2 = Employee('Test', 'User', 60000)\n",
        "\n",
        "print('{} {}'.format(emp_1.first, emp_1.last)) # a method of the employee class (manual)\n",
        "\n",
        "print(emp_1.fullname()) # a method of the employee class (automatic)\n",
        "print(emp_2.fullname())\n",
        "\n",
        "# Calling class method of instance is same thing as ==> emp_1.fullname()\n",
        "print(Employee.fullname(emp_1)) "
      ],
      "execution_count": 11,
      "outputs": [
        {
          "output_type": "stream",
          "name": "stdout",
          "text": [
            "Xavier Meyer\n",
            "Xavier Meyer\n",
            "Test User\n",
            "Xavier Meyer\n"
          ]
        }
      ]
    },
    {
      "cell_type": "markdown",
      "metadata": {
        "id": "sd1uFpTKxMCg"
      },
      "source": [
        "# **Python-OOP-Tutorial 2:** Class Variables"
      ]
    },
    {
      "cell_type": "code",
      "metadata": {
        "colab": {
          "base_uri": "https://localhost:8080/"
        },
        "id": "cTK9OfrzkTLK",
        "outputId": "3f39697e-b42b-401a-99c9-9815d2f83292"
      },
      "source": [
        "class Employee:\n",
        "\n",
        "  num_of_emps = 0\n",
        "  raise_amount = 1.04 # class variable\n",
        "\n",
        "  def __init__(self, first, last, pay):\n",
        "    self.first = first\n",
        "    self.last = last\n",
        "    self.pay = pay\n",
        "    self.email = first + '.' + last + '@company.com'\n",
        "    \n",
        "    Employee.num_of_emps += 1\n",
        "\n",
        "  def fullname(self):\n",
        "    return '{} {}'.format(self.first, self.last)\n",
        "\n",
        "  def apply_raise(self):\n",
        "    self.pay = int(self.pay * self.raise_amount)\n",
        "\n",
        "emp_1 = Employee('Xavier', 'Meyer', 50000)\n",
        "emp_2 = Employee('Test', 'User', 60000)\n",
        "\n",
        "print(emp_1.pay)\n",
        "emp_1.apply_raise()\n",
        "print(emp_1.pay)\n",
        "\n",
        "#print(Employee.raise_amount) #accesses the class variable\n",
        "#print(emp_1.raise_amount)\n",
        "#print(emp_2.raise_amount)\n",
        "\n",
        "print(emp_1.__dict__) # returns attributes\n",
        "# print(Employee.__dict__)\n",
        "\n",
        "#Employee.raise_amount = 1.05\n",
        "#print(Employee.raise_amount) #accesses the class variable\n",
        "#print(emp_1.raise_amount)\n",
        "#print(emp_2.raise_amount)\n",
        "\n",
        "#emp_1.raise_amount = 1.07\n",
        "#print(Employee.raise_amount)\n",
        "#print(emp_1.raise_amount)\n",
        "#print(emp_2.raise_amount)\n",
        "\n",
        "print(Employee.num_of_emps)"
      ],
      "execution_count": 28,
      "outputs": [
        {
          "output_type": "stream",
          "name": "stdout",
          "text": [
            "50000\n",
            "52000\n",
            "{'first': 'Xavier', 'last': 'Meyer', 'pay': 52000, 'email': 'Xavier.Meyer@company.com'}\n",
            "2\n"
          ]
        }
      ]
    },
    {
      "cell_type": "markdown",
      "metadata": {
        "id": "QD9xyCK82Xo-"
      },
      "source": [
        "# **Python-OOP-Tutorial 3:** classmethods and staticmethods\n",
        "* Difference between regular methods, class methods, and static methods"
      ]
    },
    {
      "cell_type": "code",
      "metadata": {
        "colab": {
          "base_uri": "https://localhost:8080/"
        },
        "id": "OQAjJ0zJyhaL",
        "outputId": "598bf87f-dff8-4c03-bc73-27e1e07fe0d0"
      },
      "source": [
        "class Employee:\n",
        "\n",
        "  num_of_emps = 0\n",
        "  raise_amt = 1.04\n",
        "\n",
        "  def __init__(self, first, last, pay):\n",
        "    self.first = first\n",
        "    self.last = last\n",
        "    self.pay = pay\n",
        "    self.email = first + '.' + last + '@company.com'\n",
        "    \n",
        "    Employee.num_of_emps += 1\n",
        "\n",
        "  def fullname(self): # regular methods automatically take the instance as the first argument\n",
        "    return '{} {}'.format(self.first, self.last)\n",
        "\n",
        "  def apply_raise(self):\n",
        "    self.pay = int(self.pay * self.raise_amount)\n",
        "\n",
        "  @classmethod\n",
        "  def set_raise_amt(cls, amount): # class method: receive class as the first argument\n",
        "    cls.raise_amt = amount\n",
        "\n",
        "  @classmethod\n",
        "  def from_string(cls, emp_str):\n",
        "    first, last, pay = emp_str.split('-')\n",
        "    return cls(first, last, pay) #cls == Employee\n",
        "\n",
        "  @staticmethod\n",
        "  def is_workday(day): # don't take instance or class as argument\n",
        "    '''\n",
        "    Takes day and determines whether or not its a workday\n",
        "    '''\n",
        "    if day.weekday() == 5 or day.weekday() == 6:\n",
        "      return False\n",
        "    return True\n",
        "\n",
        "emp_1 = Employee('Xavier', 'Meyer', 50000)\n",
        "emp_2 = Employee('Test', 'User', 60000)\n",
        "\n",
        "#Employee.set_raise_amt(1.05) # class method: works with class instead of instance\n",
        "#emp_1.set_raise_amt(1.09) # class method from instances: no reason to (same as previous class method)\n",
        "#print(Employee.raise_amt)\n",
        "#print(emp_1.raise_amt)\n",
        "#print(emp_2.raise_amt)\n",
        "\n",
        "emp_str_1 = 'John-Doe-70000'\n",
        "emp_str_2 = 'Steve-Smith-30000'\n",
        "emp_str_3 = 'Jane-Doe-90000'\n",
        "\n",
        "#first, last, pay = emp_str_1.split('-')\n",
        "#new_emp_1 = Employee(first, last, pay)\n",
        "\n",
        "#new_emp_1 = Employee.from_string(emp_str_1) # no need to parse strings manually anymore\n",
        "\n",
        "#print(new_emp_1.email)\n",
        "#print(new_emp_1.pay)\n",
        "\n",
        "import datetime\n",
        "my_date = datetime.date(2016, 7, 11) # a Monday\n",
        "\n",
        "print(Employee.is_workday(my_date))"
      ],
      "execution_count": 7,
      "outputs": [
        {
          "output_type": "stream",
          "name": "stdout",
          "text": [
            "True\n"
          ]
        }
      ]
    },
    {
      "cell_type": "markdown",
      "metadata": {
        "id": "ZRtis6vUFclk"
      },
      "source": [
        "# **Python-OOP-Tutorial 4:** Inheritance - Creating Subclasses"
      ]
    },
    {
      "cell_type": "code",
      "metadata": {
        "colab": {
          "base_uri": "https://localhost:8080/"
        },
        "id": "cJiIQvTu9Jhz",
        "outputId": "1110c940-1f0d-4b0c-e0df-ed99be7cd05f"
      },
      "source": [
        "class Employee: # all classes will be inheriting this common code\n",
        "\n",
        "  raise_amt = 1.04\n",
        "\n",
        "  def __init__(self, first, last, pay):\n",
        "    self.first = first\n",
        "    self.last = last\n",
        "    self.pay = pay\n",
        "    self.email = first + '.' + last + '@company.com'\n",
        "\n",
        "  def fullname(self): \n",
        "    return '{} {}'.format(self.first, self.last)\n",
        "\n",
        "  def apply_raise(self):\n",
        "    self.pay = int(self.pay * self.raise_amt)\n",
        "\n",
        "class Developer(Employee): # Employee argument is the inheritance of the Employee class\n",
        "  raise_amt = 1.10 # Developer instances will use this variable instead of the Employee one\n",
        "\n",
        "  def __init__(self, first, last, pay, prog_lang):\n",
        "    super().__init__(first, last, pay) # super brings in inherited class arguments\n",
        "    # Employee.__init__(self, first, last, pay) #same as super method - necessary when doing multiple inheritance\n",
        "    self.prog_lang = prog_lang\n",
        "\n",
        "class Manager(Employee):\n",
        "\n",
        "  def __init__(self, first, last, pay, employees = None): # pass a list of employees\n",
        "    super().__init__(first, last, pay)\n",
        "    if employees is None:\n",
        "      self.employees = []\n",
        "    else:\n",
        "      self.employees = employees\n",
        "\n",
        "  def add_emp(self, emp):\n",
        "    if emp not in self.employees:\n",
        "      self.employees.append(emp)\n",
        "\n",
        "  def remove_emp(self, emp):\n",
        "    if emp in self.employees:\n",
        "      self.employees.remove(emp)\n",
        "\n",
        "  def print_emps(self):\n",
        "    for emp in self.employees:\n",
        "      print('-->', emp.fullname())\n",
        "\n",
        "dev_1 = Developer('Xavier', 'Meyer', 50000, 'Python')\n",
        "dev_2 = Developer('Test', 'Employee', 60000, 'Java')\n",
        "\n",
        "mgr_1 = Manager('Sue', 'Smith', 90000, [dev_1])\n",
        "\n",
        "#print(dev_1.email)\n",
        "#print(dev_2.email)\n",
        "#print(help(Developer))\n",
        "\n",
        "# print(dev_1.pay)\n",
        "# dev_1.apply_raise()\n",
        "# print(dev_1.pay)\n",
        "\n",
        "# print(dev_1.email, dev_1.prog_lang)\n",
        "\n",
        "# print(mgr_1.email)\n",
        "# mgr_1.add_emp(dev_2)\n",
        "# mgr_1.remove_emp(dev_1)\n",
        "# mgr_1.print_emps()\n",
        "\n",
        "print(isinstance(mgr_1, Manager)) # checking to see if mgr_1 is an instance\n",
        "print(isinstance(mgr_1, Employee))\n",
        "print(isinstance(mgr_1, Developer))\n",
        "\n",
        "print(issubclass(Developer, Employee)) # tells if a class is a subclass of another\n",
        "print(issubclass(Manager, Employee))\n",
        "print(issubclass(Manager, Developer))"
      ],
      "execution_count": 25,
      "outputs": [
        {
          "output_type": "stream",
          "name": "stdout",
          "text": [
            "True\n",
            "True\n",
            "False\n",
            "True\n",
            "True\n",
            "False\n"
          ]
        }
      ]
    },
    {
      "cell_type": "markdown",
      "metadata": {
        "id": "XrhiiIqzQjf6"
      },
      "source": [
        "# **Python OOP Tutorial 5:** Special (Magic/ Dunder) Methods\n",
        "Special methods allow us to emulate some built-in behavior within Python, and prints more user friendly outputs."
      ]
    },
    {
      "cell_type": "code",
      "metadata": {
        "colab": {
          "base_uri": "https://localhost:8080/"
        },
        "id": "a9vGNtLNGmuf",
        "outputId": "1a409915-0ad6-434e-a852-e5998ab4f1fd"
      },
      "source": [
        "class Employee: \n",
        "\n",
        "  raise_amt = 1.04\n",
        "\n",
        "  def __init__(self, first, last, pay):\n",
        "    self.first = first\n",
        "    self.last = last\n",
        "    self.pay = pay\n",
        "    self.email = first + '.' + last + '@company.com'\n",
        "\n",
        "  def fullname(self): \n",
        "    return '{} {}'.format(self.first, self.last)\n",
        "\n",
        "  def apply_raise(self):\n",
        "    self.pay = int(self.pay * self.raise_amt)\n",
        "\n",
        "  def __repr__(self): # unambiguous representation of the object (use for debugging, logging, and etc.)\n",
        "    return \"Employee('{}', '{}', '{}')\".format(self.first, self.last, self.pay)\n",
        "\n",
        "  def __str__(self): # readable representation of the object\n",
        "    return '{} - {}'.format(self.fullname(), self.email)\n",
        "\n",
        "  def __add__(self, other): # function adds employee pay together\n",
        "    return self.pay + other.pay\n",
        "\n",
        "  def __len__(self):\n",
        "    return len(self.fullname())\n",
        "\n",
        "emp_1 = Employee('Xavier', 'Meyer', 50000)\n",
        "emp_2 = Employee('Test', 'User', 60000)\n",
        "\n",
        "# print(emp_1)\n",
        "# print(emp_1.__repr__()) # meant to be seen by other developers\n",
        "# print(emp_1.__str__()) # meant to be used as a display to the end user\n",
        "\n",
        "print(emp_1 + emp_2) # works because of __add__ dunder method\n",
        "print(len(emp_1)) # works because of the __len__ dunder method"
      ],
      "execution_count": 11,
      "outputs": [
        {
          "output_type": "stream",
          "name": "stdout",
          "text": [
            "110000\n",
            "12\n"
          ]
        }
      ]
    },
    {
      "cell_type": "markdown",
      "metadata": {
        "id": "XHdeLC72-MBd"
      },
      "source": [
        "# **Python OOP Tutorial 6:** Property Decorators - Getters, Setters, and Deleters"
      ]
    },
    {
      "cell_type": "code",
      "metadata": {
        "colab": {
          "base_uri": "https://localhost:8080/"
        },
        "id": "ikeBrBRA3Y97",
        "outputId": "6a465da0-f59b-496c-e9af-58ee010d823f"
      },
      "source": [
        "class Employee: \n",
        "\n",
        "  def __init__(self, first, last):\n",
        "    self.first = first\n",
        "    self.last = last\n",
        "\n",
        "  @property\n",
        "  def email(self): \n",
        "    return '{}.{}@email.com'.format(self.first, self.last)\n",
        "\n",
        "  @property\n",
        "  def fullname(self): \n",
        "    return '{} {}'.format(self.first, self.last)\n",
        "\n",
        "  @fullname.setter\n",
        "  def fullname(self, name):\n",
        "    first, last = name.split(' ')\n",
        "    self.first = first\n",
        "    self.last = last\n",
        "\n",
        "  @fullname.deleter\n",
        "  def fullname(self):\n",
        "    print('Delete Name!')\n",
        "    self.first = None\n",
        "    self.last = None\n",
        "\n",
        "emp_1 = Employee('John', 'Smith')\n",
        "\n",
        "emp_1.first = 'Jim'\n",
        "\n",
        "emp_1.fullname = 'John Jacob'\n",
        "\n",
        "print(emp_1.first)\n",
        "print(emp_1.email)\n",
        "print(emp_1.fullname)\n",
        "\n",
        "del emp_1.fullname\n",
        "print(emp_1.fullname)"
      ],
      "execution_count": 7,
      "outputs": [
        {
          "output_type": "stream",
          "name": "stdout",
          "text": [
            "John\n",
            "John.Jacob@email.com\n",
            "John Jacob\n",
            "Delete Name!\n",
            "None None\n"
          ]
        }
      ]
    }
  ]
}